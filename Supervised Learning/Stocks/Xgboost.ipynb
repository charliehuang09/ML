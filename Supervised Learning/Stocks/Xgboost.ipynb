{
 "cells": [
  {
   "cell_type": "code",
   "execution_count": 66,
   "metadata": {},
   "outputs": [],
   "source": [
    "from xgboost import XGBClassifier\n",
    "from IPython.display import display\n",
    "import xgboost as xgb\n",
    "import pandas as pd\n",
    "import numpy as np\n",
    "from tqdm.notebook import tqdm_notebook as tqdm\n",
    "from tqdm import trange\n",
    "from sklearn import metrics\n",
    "from sklearn.preprocessing import LabelEncoder\n",
    "from sklearn.model_selection import train_test_split\n",
    "from sklearn.metrics import confusion_matrix, accuracy_score, classification_report"
   ]
  },
  {
   "cell_type": "code",
   "execution_count": 67,
   "metadata": {},
   "outputs": [],
   "source": [
    "path = '/Users/charlie/ML/Stocks/Data/binary_processed_data.csv'"
   ]
  },
  {
   "cell_type": "code",
   "execution_count": 68,
   "metadata": {},
   "outputs": [],
   "source": [
    "def helper(input):\n",
    "    if input > 0:\n",
    "        return True\n",
    "    return False"
   ]
  },
  {
   "cell_type": "code",
   "execution_count": 69,
   "metadata": {},
   "outputs": [],
   "source": [
    "df = pd.read_csv(path)\n",
    "df['LastBuyScore'] = df['LastBuyScore'].apply(helper)\n",
    "train, test = train_test_split(df, test_size=0.1)\n",
    "trainx = train.drop(columns = ['LastBuyScore'])\n",
    "trainy = train['LastBuyScore']\n",
    "testx = test.drop(columns = ['LastBuyScore'])\n",
    "testy = test['LastBuyScore']"
   ]
  },
  {
   "cell_type": "code",
   "execution_count": 70,
   "metadata": {},
   "outputs": [],
   "source": [
    "xgbc_tuned = XGBClassifier(gamma = 1.5,\n",
    "                           subsample = 1.0,\n",
    "                           max_depth = 5,\n",
    "                           colsample_bytree = 1.0,\n",
    "                           n_estimators = 100)\n",
    "xgbc_model_full = xgbc_tuned.fit(trainx, trainy)"
   ]
  },
  {
   "cell_type": "code",
   "execution_count": 71,
   "metadata": {},
   "outputs": [],
   "source": [
    "y_pred = xgbc_model_full.predict(testx)"
   ]
  },
  {
   "cell_type": "code",
   "execution_count": 72,
   "metadata": {},
   "outputs": [
    {
     "data": {
      "text/plain": [
       "0.6212121212121212"
      ]
     },
     "execution_count": 72,
     "metadata": {},
     "output_type": "execute_result"
    }
   ],
   "source": [
    "accuracy_score(y_pred, testy)"
   ]
  },
  {
   "cell_type": "code",
   "execution_count": 73,
   "metadata": {},
   "outputs": [],
   "source": [
    "def train(seed):\n",
    "    df = pd.read_csv(path)\n",
    "    train, test = train_test_split(df, test_size=0.1, random_state=seed)\n",
    "    trainx = train.drop(columns = ['LastBuyScore'])\n",
    "    trainy = train['LastBuyScore']\n",
    "    testx = test.drop(columns = ['LastBuyScore'])\n",
    "    testy = test['LastBuyScore']\n",
    "    xgbc_tuned = XGBClassifier(\n",
    "                           seed=seed,\n",
    "                           gamma = 1.5,\n",
    "                           subsample = 1.0,\n",
    "                           max_depth = 5,\n",
    "                           colsample_bytree = 1.0,\n",
    "                           n_estimators = 100)\n",
    "    xgbc_model_full = xgbc_tuned.fit(trainx, trainy)\n",
    "    y_pred = xgbc_model_full.predict(testx)\n",
    "    y_pred = xgbc_model_full.predict(testx)\n",
    "    return accuracy_score(y_pred, testy)"
   ]
  },
  {
   "cell_type": "code",
   "execution_count": 74,
   "metadata": {},
   "outputs": [
    {
     "name": "stderr",
     "output_type": "stream",
     "text": [
      "100%|██████████| 30/30 [00:04<00:00,  7.44it/s]\n"
     ]
    },
    {
     "data": {
      "text/plain": [
       "array([0.57575758, 0.59090909, 0.63636364, 0.56060606, 0.62121212,\n",
       "       0.57575758, 0.65151515, 0.63636364, 0.59090909, 0.62121212,\n",
       "       0.60606061, 0.71212121, 0.60606061, 0.57575758, 0.6969697 ,\n",
       "       0.66666667, 0.71212121, 0.62121212, 0.65151515, 0.57575758,\n",
       "       0.66666667, 0.71212121, 0.60606061, 0.60606061, 0.72727273,\n",
       "       0.66666667, 0.75757576, 0.63636364, 0.62121212, 0.59090909])"
      ]
     },
     "execution_count": 74,
     "metadata": {},
     "output_type": "execute_result"
    }
   ],
   "source": [
    "accuracy = np.array([])\n",
    "for i in trange(30):\n",
    "    accuracy = np.append(accuracy, train(i + 3523214))\n",
    "accuracy"
   ]
  },
  {
   "cell_type": "code",
   "execution_count": 76,
   "metadata": {},
   "outputs": [
    {
     "data": {
      "text/plain": [
       "0.6358585858585858"
      ]
     },
     "execution_count": 76,
     "metadata": {},
     "output_type": "execute_result"
    }
   ],
   "source": [
    "accuracy.mean()"
   ]
  }
 ],
 "metadata": {
  "kernelspec": {
   "display_name": "Python 3.10.6",
   "language": "python",
   "name": "python3"
  },
  "language_info": {
   "codemirror_mode": {
    "name": "ipython",
    "version": 3
   },
   "file_extension": ".py",
   "mimetype": "text/x-python",
   "name": "python",
   "nbconvert_exporter": "python",
   "pygments_lexer": "ipython3",
   "version": "3.10.6"
  },
  "orig_nbformat": 4,
  "vscode": {
   "interpreter": {
    "hash": "fd28946ab4b3c1ed8a0aac63e1344767028bd339f82e0ad8f6165165fa9879c6"
   }
  }
 },
 "nbformat": 4,
 "nbformat_minor": 2
}
