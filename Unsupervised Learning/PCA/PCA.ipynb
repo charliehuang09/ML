{
 "cells": [
  {
   "cell_type": "code",
   "execution_count": 17,
   "metadata": {},
   "outputs": [],
   "source": [
    "import numpy as np\n",
    "import matplotlib.pyplot as plt\n",
    "import numpy.random as rnd"
   ]
  },
  {
   "cell_type": "code",
   "execution_count": 18,
   "metadata": {},
   "outputs": [
    {
     "name": "stdout",
     "output_type": "stream",
     "text": [
      "Mu  (2,)\n",
      "Sigma  (2, 2)\n",
      "Data shape  (1000, 2)\n"
     ]
    }
   ],
   "source": [
    "# Create random 2d data\n",
    "mu = np.array([10,13])\n",
    "sigma = np.array([[3.5, -1.8], [-1.8,3.5]])\n",
    "\n",
    "print(\"Mu \", mu.shape)\n",
    "print(\"Sigma \", sigma.shape)\n",
    "\n",
    "# Create 1000 samples using mean and sigma\n",
    "org_data = rnd.multivariate_normal(mu, sigma, size=(1000))\n",
    "print(\"Data shape \", org_data.shape)"
   ]
  },
  {
   "cell_type": "code",
   "execution_count": 19,
   "metadata": {},
   "outputs": [
    {
     "name": "stdout",
     "output_type": "stream",
     "text": [
      "Mean  (2,)\n",
      "Data after subtracting mean  (1000, 2) \n",
      "\n"
     ]
    }
   ],
   "source": [
    "# Subtract mean from data\n",
    "mean = np.mean(org_data, axis= 0)\n",
    "print(\"Mean \", mean.shape)\n",
    "mean_data = org_data - mean\n",
    "print(\"Data after subtracting mean \", org_data.shape, \"\\n\")"
   ]
  },
  {
   "cell_type": "code",
   "execution_count": 20,
   "metadata": {},
   "outputs": [
    {
     "name": "stdout",
     "output_type": "stream",
     "text": [
      "Covariance matrix  (2, 2) \n",
      "\n"
     ]
    }
   ],
   "source": [
    "# Compute covariance matrix\n",
    "cov = np.cov(mean_data.T)\n",
    "cov = np.round(cov, 2)\n",
    "print(\"Covariance matrix \", cov.shape, \"\\n\")"
   ]
  },
  {
   "cell_type": "code",
   "execution_count": 21,
   "metadata": {},
   "outputs": [
    {
     "name": "stdout",
     "output_type": "stream",
     "text": [
      "Eigen vectors  [[ 0.73226871  0.68101581]\n",
      " [-0.68101581  0.73226871]]\n",
      "Eigen values  [5.35471446 1.76528554] \n",
      "\n"
     ]
    }
   ],
   "source": [
    "# Perform eigen decomposition of covariance matrix\n",
    "eig_val, eig_vec = np.linalg.eig(cov)\n",
    "print(\"Eigen vectors \", eig_vec)\n",
    "print(\"Eigen values \", eig_val, \"\\n\")"
   ]
  },
  {
   "cell_type": "code",
   "execution_count": 22,
   "metadata": {},
   "outputs": [
    {
     "name": "stdout",
     "output_type": "stream",
     "text": [
      "Sorted Eigen vectors  [[ 0.73226871  0.68101581]\n",
      " [-0.68101581  0.73226871]]\n",
      "Sorted Eigen values  [5.35471446 1.76528554] \n",
      "\n"
     ]
    }
   ],
   "source": [
    "\n",
    "# Sort eigen values and corresponding eigen vectors in descending order\n",
    "indices = np.arange(0,len(eig_val), 1)\n",
    "indices = ([x for _,x in sorted(zip(eig_val, indices))])[::-1]\n",
    "eig_val = eig_val[indices]\n",
    "eig_vec = eig_vec[:,indices]\n",
    "print(\"Sorted Eigen vectors \", eig_vec)\n",
    "print(\"Sorted Eigen values \", eig_val, \"\\n\")"
   ]
  },
  {
   "cell_type": "code",
   "execution_count": 23,
   "metadata": {},
   "outputs": [
    {
     "name": "stdout",
     "output_type": "stream",
     "text": [
      "[0.75206664 0.24793336]\n",
      "[0.75206664 1.        ]\n"
     ]
    }
   ],
   "source": [
    "\n",
    "# Get explained variance\n",
    "sum_eig_val = np.sum(eig_val)\n",
    "explained_variance = eig_val/ sum_eig_val\n",
    "print(explained_variance)\n",
    "cumulative_variance = np.cumsum(explained_variance)\n",
    "print(cumulative_variance)"
   ]
  },
  {
   "cell_type": "code",
   "execution_count": 24,
   "metadata": {},
   "outputs": [
    {
     "name": "stdout",
     "output_type": "stream",
     "text": [
      "Transformed data  (1000, 2)\n"
     ]
    }
   ],
   "source": [
    "# Take transpose of eigen vectors with data\n",
    "pca_data = np.dot(mean_data, eig_vec)\n",
    "print(\"Transformed data \", pca_data.shape)"
   ]
  },
  {
   "attachments": {},
   "cell_type": "markdown",
   "metadata": {},
   "source": [
    "https://towardsdatascience.com/a-step-by-step-implementation-of-principal-component-analysis-5520cc6cd598"
   ]
  }
 ],
 "metadata": {
  "kernelspec": {
   "display_name": "ML",
   "language": "python",
   "name": "python3"
  },
  "language_info": {
   "name": "python",
   "version": "3.9.16"
  },
  "orig_nbformat": 4
 },
 "nbformat": 4,
 "nbformat_minor": 2
}
