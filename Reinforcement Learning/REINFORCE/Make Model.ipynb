{
 "cells": [
  {
   "cell_type": "code",
   "execution_count": 54,
   "metadata": {},
   "outputs": [],
   "source": [
    "import torch\n",
    "import gym"
   ]
  },
  {
   "cell_type": "code",
   "execution_count": 55,
   "metadata": {},
   "outputs": [],
   "source": [
    "env = gym.make('CartPole-v0')"
   ]
  },
  {
   "cell_type": "code",
   "execution_count": 56,
   "metadata": {},
   "outputs": [],
   "source": [
    "nn = torch.nn.Sequential(\n",
    "    torch.nn.Linear(4, 64),\n",
    "    torch.nn.ReLU(),\n",
    "    torch.nn.Linear(64, env.action_space.n),\n",
    "    torch.nn.Softmax(dim=-1)\n",
    ")\n",
    "optim = torch.optim.SGD(nn.parameters(), lr = 1e-3)"
   ]
  },
  {
   "cell_type": "code",
   "execution_count": 57,
   "metadata": {},
   "outputs": [],
   "source": [
    "obs = torch.tensor(env.reset(), dtype=torch.float)\n",
    "done = False\n",
    "Actions, States, Rewards = [], [], []"
   ]
  },
  {
   "cell_type": "code",
   "execution_count": 58,
   "metadata": {},
   "outputs": [],
   "source": [
    "while not done:\n",
    "    probs = nn(obs)\n",
    "    dist = torch.distributions.Categorical(probs=probs)\n",
    "    action = dist.sample().item() \n",
    "    obs_, rew, done, _ = env.step(action)\n",
    "\n",
    "    Actions.append(torch.tensor(action, dtype=torch.int))\n",
    "    States.append(obs)\n",
    "    Rewards.append(rew)\n",
    "\n",
    "    obs = torch.tensor(obs_, dtype=torch.float)"
   ]
  },
  {
   "cell_type": "code",
   "execution_count": 59,
   "metadata": {},
   "outputs": [],
   "source": [
    "y = 0.01\n",
    "DiscountedReturns = []\n",
    "for t in range(len(Rewards)):\n",
    "    G = 0.0\n",
    "    for k, r in enumerate(Rewards[t:]):\n",
    "        G += (y**k) * r\n",
    "    DiscountedReturns.append(G)\n",
    "    "
   ]
  },
  {
   "cell_type": "code",
   "execution_count": 60,
   "metadata": {},
   "outputs": [],
   "source": [
    "for State, Action, G in zip(States, Actions, DiscountedReturns):\n",
    "    probs = nn(State)\n",
    "    dist = torch.distributions.Categorical(probs=probs)\n",
    "    log_prob = dist.log_prob(Action)\n",
    "\n",
    "    loss = -log_prob*G\n",
    "\n",
    "    optim.zero_grad()\n",
    "    loss.backward()\n",
    "    optim.step()"
   ]
  }
 ],
 "metadata": {
  "kernelspec": {
   "display_name": "py39",
   "language": "python",
   "name": "python3"
  },
  "language_info": {
   "codemirror_mode": {
    "name": "ipython",
    "version": 3
   },
   "file_extension": ".py",
   "mimetype": "text/x-python",
   "name": "python",
   "nbconvert_exporter": "python",
   "pygments_lexer": "ipython3",
   "version": "3.9.16"
  },
  "orig_nbformat": 4,
  "vscode": {
   "interpreter": {
    "hash": "7e1b660ec160019daaaf0f56251219308500388eb9d7fbb6e4b5e5244568bc87"
   }
  }
 },
 "nbformat": 4,
 "nbformat_minor": 2
}
