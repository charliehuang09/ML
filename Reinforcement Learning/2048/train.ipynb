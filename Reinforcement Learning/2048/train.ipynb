{
 "cells": [
  {
   "cell_type": "code",
   "execution_count": 2,
   "metadata": {},
   "outputs": [],
   "source": [
    "from gym import Env\n",
    "from gym.spaces import Discrete, Box\n",
    "import numpy as np\n",
    "import random\n",
    "import tensorflow as tf\n",
    "from tensorflow.keras.models import Sequential\n",
    "from tensorflow.keras.layers import Dense, Flatten\n",
    "from tensorflow.keras.optimizers import Adam\n",
    "from rl.agents import DQNAgent\n",
    "from rl.policy import BoltzmannQPolicy\n",
    "from rl.memory import SequentialMemory\n",
    "from tqdm import trange\n",
    "import matplotlib.pyplot as plt"
   ]
  },
  {
   "cell_type": "code",
   "execution_count": 45,
   "metadata": {},
   "outputs": [
    {
     "name": "stdout",
     "output_type": "stream",
     "text": [
      "[[2. 1. 1. 0.]\n",
      " [0. 0. 2. 2.]\n",
      " [0. 0. 2. 1.]\n",
      " [0. 0. 0. 1.]]\n",
      "[[0. 0. 0. 3.]\n",
      " [0. 0. 0. 3.]\n",
      " [0. 0. 2. 1.]\n",
      " [0. 0. 0. 1.]]\n"
     ]
    }
   ],
   "source": [
    "state = np.zeros(shape=(4, 4))\n",
    "state[1][3] = 2\n",
    "state[1][2] = 2\n",
    "state[2][3] = 1\n",
    "state[2][2] = 2\n",
    "state[3][3] = 1\n",
    "state[0][0] = 2\n",
    "state[0][1] = 1\n",
    "state[0][2] = 1\n",
    "print(state)\n",
    "for i in range(0, 4):\n",
    "    prev = 3\n",
    "    for j in range(2, -1, -1):\n",
    "        if state[i][j] == 0:\n",
    "            continue\n",
    "        if state[i][prev] == 0:\n",
    "            state[i][prev] = state[i][j]\n",
    "            state[i][j] = 0\n",
    "            continue\n",
    "        if state[i][prev] == state[i][j] and prev != j:\n",
    "            state[i][j] = 0\n",
    "            state[i][prev - 1] = state[i][prev]\n",
    "            while(prev < 4 and state[i][prev] == state[i][prev - 1]):\n",
    "                state[i][prev] += 1\n",
    "                state[i][prev - 1] = 0\n",
    "                prev += 1\n",
    "            prev -= 1\n",
    "            continue\n",
    "        if prev - 1 != j:\n",
    "            prev -= 1\n",
    "            state[i][prev] = state[i][j]\n",
    "            state[i][j] = 0\n",
    "        if state[i][j] != 0:\n",
    "            prev = j\n",
    "print(state)"
   ]
  },
  {
   "cell_type": "code",
   "execution_count": 46,
   "metadata": {},
   "outputs": [
    {
     "name": "stdout",
     "output_type": "stream",
     "text": [
      "[[2. 1. 1. 0.]\n",
      " [0. 0. 2. 2.]\n",
      " [0. 0. 2. 1.]\n",
      " [0. 0. 0. 1.]]\n",
      "[[3. 0. 0. 0.]\n",
      " [3. 0. 0. 0.]\n",
      " [2. 1. 0. 0.]\n",
      " [1. 0. 0. 0.]]\n"
     ]
    }
   ],
   "source": [
    "state = np.zeros(shape=(4, 4))\n",
    "state[1][3] = 2\n",
    "state[1][2] = 2\n",
    "state[2][3] = 1\n",
    "state[2][2] = 2\n",
    "state[3][3] = 1\n",
    "state[0][0] = 2\n",
    "state[0][1] = 1\n",
    "state[0][2] = 1\n",
    "print(state)\n",
    "for i in range(0, 4):\n",
    "    prev = 0\n",
    "    for j in range(1, 4):\n",
    "        if state[i][j] == 0:\n",
    "            continue\n",
    "        if state[i][prev] == 0:\n",
    "            state[i][prev] = state[i][j]\n",
    "            state[i][j] = 0\n",
    "            continue\n",
    "        if state[i][prev] == state[i][j] and prev != j:\n",
    "            state[i][j] = 0\n",
    "            state[i][prev + 1] = state[i][prev]\n",
    "            while(prev >= 0 and state[i][prev] == state[i][prev + 1]):\n",
    "                state[i][prev] += 1\n",
    "                state[i][prev + 1] = 0\n",
    "                prev -= 1\n",
    "            prev += 1\n",
    "            continue\n",
    "        if prev + 1 != j:\n",
    "            prev += 1\n",
    "            state[i][prev] = state[i][j]\n",
    "            state[i][j] = 0\n",
    "        if state[i][j] != 0:\n",
    "            prev = j\n",
    "print(state)"
   ]
  },
  {
   "cell_type": "code",
   "execution_count": 47,
   "metadata": {},
   "outputs": [
    {
     "name": "stdout",
     "output_type": "stream",
     "text": [
      "[[2. 1. 1. 0.]\n",
      " [0. 0. 2. 2.]\n",
      " [0. 0. 2. 1.]\n",
      " [0. 0. 0. 1.]]\n",
      "[[2. 1. 1. 3.]\n",
      " [0. 0. 3. 0.]\n",
      " [0. 0. 0. 0.]\n",
      " [0. 0. 0. 0.]]\n"
     ]
    }
   ],
   "source": [
    "state = np.zeros(shape=(4, 4))\n",
    "state[1][3] = 2\n",
    "state[1][2] = 2\n",
    "state[2][3] = 1\n",
    "state[2][2] = 2\n",
    "state[3][3] = 1\n",
    "state[0][0] = 2\n",
    "state[0][1] = 1\n",
    "state[0][2] = 1\n",
    "print(state)\n",
    "for j in range(0, 4):\n",
    "    prev = 0\n",
    "    for i in range(1, 4):\n",
    "        if state[i][j] == 0:\n",
    "            continue\n",
    "        if state[prev][j] == 0:\n",
    "            state[prev][j] = state[i][j]\n",
    "            state[i][j] = 0\n",
    "            continue\n",
    "        if state[prev][j] == state[i][j] and prev != j:\n",
    "            state[i][j] = 0\n",
    "            state[prev + 1][j] = state[prev][j]\n",
    "            while(prev >= 0 and state[prev][j] == state[prev + 1][j]):\n",
    "                state[prev][j] += 1\n",
    "                state[prev + 1][j] = 0\n",
    "                prev -= 1\n",
    "            prev += 1\n",
    "            continue\n",
    "        if prev + 1 != i:\n",
    "            prev += 1\n",
    "            state[prev][j] = state[i][j]\n",
    "            state[i][j] = 0\n",
    "        if state[i][j] != 0:\n",
    "            prev = i\n",
    "print(state)"
   ]
  },
  {
   "cell_type": "code",
   "execution_count": 48,
   "metadata": {},
   "outputs": [
    {
     "name": "stdout",
     "output_type": "stream",
     "text": [
      "[[2. 1. 1. 0.]\n",
      " [0. 0. 2. 2.]\n",
      " [0. 0. 2. 1.]\n",
      " [0. 0. 0. 1.]]\n",
      "[[0. 0. 0. 0.]\n",
      " [0. 0. 0. 0.]\n",
      " [0. 0. 1. 0.]\n",
      " [2. 1. 3. 3.]]\n"
     ]
    }
   ],
   "source": [
    "state = np.zeros(shape=(4, 4))\n",
    "state[1][3] = 2\n",
    "state[1][2] = 2\n",
    "state[2][3] = 1\n",
    "state[2][2] = 2\n",
    "state[3][3] = 1\n",
    "state[0][0] = 2\n",
    "state[0][1] = 1\n",
    "state[0][2] = 1\n",
    "print(state)\n",
    "for j in range(0, 4):\n",
    "    prev = 3\n",
    "    for i in range(2, -1, -1):\n",
    "        if state[i][j] == 0:\n",
    "            continue\n",
    "        if state[prev][j] == 0:\n",
    "            state[prev][j] = state[i][j]\n",
    "            state[i][j] = 0\n",
    "            continue\n",
    "        if state[prev][j] == state[i][j] and prev != i:\n",
    "            state[i][j] = 0\n",
    "            state[prev - 1][j] = state[prev][j]\n",
    "            while(prev < 4 and state[prev][j] == state[prev - 1][j]):\n",
    "                state[prev][j] += 1\n",
    "                state[prev - 1][j] = 0\n",
    "                prev += 1\n",
    "            prev -= 1\n",
    "            continue\n",
    "        if prev - 1 != i and state[prev - 1][j] == 0:\n",
    "            prev -= 1\n",
    "            state[prev][j] = state[i][j]\n",
    "            state[i][j] = 0\n",
    "        if state[i][j] != 0:\n",
    "            prev = i\n",
    "print(state)"
   ]
  },
  {
   "cell_type": "code",
   "execution_count": 49,
   "metadata": {},
   "outputs": [],
   "source": [
    "class env2048(Env):\n",
    "    def __init__(self):\n",
    "        # Actions we can take, down, stay, up\n",
    "        self.action_space = Discrete(4)\n",
    "        # Temperature array\n",
    "        low = np.empty(shape=(1, 4, 4,))\n",
    "        low.fill(1)\n",
    "        high = np.empty(shape=(1, 4, 4,))\n",
    "        high.fill(10)\n",
    "        t = np.array([0])\n",
    "        self.observation_space = Box(low=np.array(low), high=np.array(high))\n",
    "        # Set start temp\n",
    "        self.state = np.zeros(shape=(4, 4))\n",
    "    \n",
    "    def right(self):\n",
    "        state = np.copy(self.state)\n",
    "        for i in range(0, 4):\n",
    "            prev = 3\n",
    "            for j in range(2, -1, -1):\n",
    "                if state[i][j] == 0:\n",
    "                    continue\n",
    "                if state[i][prev] == 0:\n",
    "                    state[i][prev] = state[i][j]\n",
    "                    state[i][j] = 0\n",
    "                    continue\n",
    "                if state[i][prev] == state[i][j] and prev != j:\n",
    "                    state[i][j] = 0\n",
    "                    state[i][prev - 1] = state[i][prev]\n",
    "                    while(prev < 4 and state[i][prev] == state[i][prev - 1]):\n",
    "                        state[i][prev] += 1\n",
    "                        state[i][prev - 1] = 0\n",
    "                        prev += 1\n",
    "                    prev -= 1\n",
    "                    continue\n",
    "                if prev - 1 != j:\n",
    "                    prev -= 1\n",
    "                    state[i][prev] = state[i][j]\n",
    "                    state[i][j] = 0\n",
    "                if state[i][j] != 0:\n",
    "                    prev = j\n",
    "        return state\n",
    "    def left(self):\n",
    "        state = np.copy(self.state)\n",
    "        for i in range(0, 4):\n",
    "            prev = 0\n",
    "            for j in range(1, 4):\n",
    "                if state[i][j] == 0:\n",
    "                    continue\n",
    "                if state[i][prev] == 0:\n",
    "                    state[i][prev] = state[i][j]\n",
    "                    state[i][j] = 0\n",
    "                    continue\n",
    "                if state[i][prev] == state[i][j] and prev != j:\n",
    "                    state[i][j] = 0\n",
    "                    state[i][prev + 1] = state[i][prev]\n",
    "                    while(prev >= 0 and state[i][prev] == state[i][prev + 1]):\n",
    "                        state[i][prev] += 1\n",
    "                        state[i][prev + 1] = 0\n",
    "                        prev -= 1\n",
    "                    prev += 1\n",
    "                    continue\n",
    "                if prev + 1 != j:\n",
    "                    prev += 1\n",
    "                    state[i][prev] = state[i][j]\n",
    "                    state[i][j] = 0\n",
    "                if state[i][j] != 0:\n",
    "                    prev = j\n",
    "        return state\n",
    "    def up(self):\n",
    "        state = np.copy(self.state)\n",
    "        for j in range(0, 4):\n",
    "            prev = 0\n",
    "            for i in range(1, 4):\n",
    "                if state[i][j] == 0:\n",
    "                    continue\n",
    "                if state[prev][j] == 0:\n",
    "                    state[prev][j] = state[i][j]\n",
    "                    state[i][j] = 0\n",
    "                    continue\n",
    "                if state[prev][j] == state[i][j] and prev != j:\n",
    "                    state[i][j] = 0\n",
    "                    state[prev + 1][j] = state[prev][j]\n",
    "                    while(prev >= 0 and state[prev][j] == state[prev + 1][j]):\n",
    "                        state[prev][j] += 1\n",
    "                        state[prev + 1][j] = 0\n",
    "                        prev -= 1\n",
    "                    prev += 1\n",
    "                    continue\n",
    "                if prev + 1 != i:\n",
    "                    prev += 1\n",
    "                    state[prev][j] = state[i][j]\n",
    "                    state[i][j] = 0\n",
    "                if state[i][j] != 0:\n",
    "                    prev = i\n",
    "        return state\n",
    "    def down(self):\n",
    "        state = np.copy(self.state)\n",
    "        for j in range(0, 4):\n",
    "            prev = 3\n",
    "            for i in range(2, -1, -1):\n",
    "                if state[i][j] == 0:\n",
    "                    continue\n",
    "                if state[prev][j] == 0:\n",
    "                    state[prev][j] = state[i][j]\n",
    "                    state[i][j] = 0\n",
    "                    continue\n",
    "                if state[prev][j] == state[i][j] and prev != i:\n",
    "                    state[i][j] = 0\n",
    "                    state[prev - 1][j] = state[prev][j]\n",
    "                    while(prev < 4 and state[prev][j] == state[prev - 1][j]):\n",
    "                        state[prev][j] += 1\n",
    "                        state[prev - 1][j] = 0\n",
    "                        prev += 1\n",
    "                    prev -= 1\n",
    "                    continue\n",
    "                if prev - 1 != i and state[prev - 1][j] == 0:\n",
    "                    prev -= 1\n",
    "                    state[prev][j] = state[i][j]\n",
    "                    state[i][j] = 0\n",
    "                if state[i][j] != 0:\n",
    "                    prev = i\n",
    "        return state\n",
    "    def reward(self):\n",
    "        state = np.copy(self.state)\n",
    "        reward = 0\n",
    "        for i in range(4):\n",
    "            for j in range(4):\n",
    "                reward += state[i][j] ** 2\n",
    "        return reward\n",
    "    def done(self):\n",
    "        state = np.copy(self.state)\n",
    "        if sum(sum(state == self.up())) != 4 * 4:\n",
    "            return False\n",
    "        if sum(sum(state == self.down())) != 4 * 4:\n",
    "            return False\n",
    "        if sum(sum(state == self.left())) != 4 * 4:\n",
    "            return False\n",
    "        if sum(sum(state == self.right())) != 4 * 4:\n",
    "            return False\n",
    "        return True\n",
    "    def addBlock(self):\n",
    "        count = 0\n",
    "        state = np.copy(self.state)\n",
    "        for i in range(4):\n",
    "            for j in range(4):\n",
    "                if state[i][j] == 0:\n",
    "                    count += 1\n",
    "        count = random.randint(0, count)\n",
    "        for i in range(4):\n",
    "            for j in range(4):\n",
    "                if state[i][j] == 0:\n",
    "                    if count == 0:\n",
    "                        state[i][j] = random.randint(1, 2)\n",
    "                    count -= 1\n",
    "        return state\n",
    "    def maxBlock(self):\n",
    "        state = np.copy(self.state)\n",
    "        m = 0\n",
    "        for i in range(4):\n",
    "            for j in range(4):\n",
    "                m = max(m, state[i][j])\n",
    "        return m\n",
    "\n",
    "    def step(self, action):\n",
    "        # Apply action\n",
    "        # 0 -1 = -1 temperature\n",
    "        # 1 -1 = 0 \n",
    "        # 2 -1 = 1 temperature \n",
    "        if action == 0:\n",
    "            self.state = self.up()\n",
    "        if action == 1:\n",
    "            self.state = self.down()\n",
    "        if action == 2:\n",
    "            self.state = self.left()\n",
    "        if action == 3:\n",
    "            self.state = self.right()\n",
    "        \n",
    "        self.state = self.addBlock()\n",
    "\n",
    "        # Calculate reward\n",
    "        reward = self.reward()\n",
    "        \n",
    "        # Check if shower is done\n",
    "        done = self.done()\n",
    "        if done: reward = 0\n",
    "        \n",
    "        # Apply temperature noise\n",
    "        #self.state += random.randint(-1,1)\n",
    "        # Set placeholder for info\n",
    "        info = {}\n",
    "        \n",
    "        # Return step information\n",
    "        return self.state, reward, done, info\n",
    "    def render(self):\n",
    "        print(self.state)\n",
    "    \n",
    "    def reset(self):\n",
    "        # Reset shower temperature\n",
    "        self.state = np.zeros(shape=(4, 4))\n",
    "        self.state[random.randint(0,3)][random.randint(0,3)] = random.randint(1,2)\n",
    "        return self.state\n",
    "    "
   ]
  },
  {
   "cell_type": "code",
   "execution_count": 50,
   "metadata": {},
   "outputs": [],
   "source": [
    "env = env2048()"
   ]
  },
  {
   "cell_type": "code",
   "execution_count": 51,
   "metadata": {},
   "outputs": [
    {
     "data": {
      "text/plain": [
       "array([[[4.1760945, 9.1883335, 3.4230816, 6.9451976],\n",
       "        [9.713764 , 9.895732 , 2.873165 , 8.853717 ],\n",
       "        [6.79294  , 2.6823795, 3.6596565, 1.8220351],\n",
       "        [1.417963 , 8.963317 , 5.108679 , 6.6247616]]], dtype=float32)"
      ]
     },
     "execution_count": 51,
     "metadata": {},
     "output_type": "execute_result"
    }
   ],
   "source": [
    "env.observation_space.sample()"
   ]
  },
  {
   "cell_type": "code",
   "execution_count": 52,
   "metadata": {},
   "outputs": [],
   "source": [
    "max_score = []"
   ]
  },
  {
   "cell_type": "code",
   "execution_count": 53,
   "metadata": {},
   "outputs": [
    {
     "name": "stderr",
     "output_type": "stream",
     "text": [
      "100%|██████████| 100/100 [00:00<00:00, 203.35it/s]\n"
     ]
    }
   ],
   "source": [
    "episodes = 100000\n",
    "for episode in trange(1, episodes+1):\n",
    "    state = env.reset()\n",
    "    done = False\n",
    "    score = 0 \n",
    "    while not done:\n",
    "        # env.render()\n",
    "        action = env.action_space.sample()\n",
    "        # print(action)c\n",
    "        n_state, reward, done, info = env.step(action)\n",
    "        score+=reward\n",
    "    max_score.append(env.maxBlock())\n",
    "    # print('Episode:{} Score:{}'.format(episode, score))"
   ]
  },
  {
   "cell_type": "code",
   "execution_count": 54,
   "metadata": {},
   "outputs": [
    {
     "data": {
      "text/plain": [
       "[6.0,\n",
       " 7.0,\n",
       " 8.0,\n",
       " 6.0,\n",
       " 6.0,\n",
       " 6.0,\n",
       " 7.0,\n",
       " 8.0,\n",
       " 7.0,\n",
       " 7.0,\n",
       " 7.0,\n",
       " 7.0,\n",
       " 7.0,\n",
       " 7.0,\n",
       " 6.0,\n",
       " 7.0,\n",
       " 7.0,\n",
       " 6.0,\n",
       " 6.0,\n",
       " 8.0,\n",
       " 5.0,\n",
       " 7.0,\n",
       " 7.0,\n",
       " 7.0,\n",
       " 7.0,\n",
       " 6.0,\n",
       " 8.0,\n",
       " 6.0,\n",
       " 6.0,\n",
       " 8.0,\n",
       " 5.0,\n",
       " 7.0,\n",
       " 5.0,\n",
       " 7.0,\n",
       " 5.0,\n",
       " 6.0,\n",
       " 7.0,\n",
       " 6.0,\n",
       " 6.0,\n",
       " 6.0,\n",
       " 5.0,\n",
       " 6.0,\n",
       " 6.0,\n",
       " 6.0,\n",
       " 7.0,\n",
       " 8.0,\n",
       " 5.0,\n",
       " 8.0,\n",
       " 7.0,\n",
       " 5.0,\n",
       " 7.0,\n",
       " 6.0,\n",
       " 7.0,\n",
       " 7.0,\n",
       " 7.0,\n",
       " 5.0,\n",
       " 7.0,\n",
       " 6.0,\n",
       " 8.0,\n",
       " 7.0,\n",
       " 6.0,\n",
       " 7.0,\n",
       " 6.0,\n",
       " 7.0,\n",
       " 7.0,\n",
       " 7.0,\n",
       " 6.0,\n",
       " 8.0,\n",
       " 6.0,\n",
       " 7.0,\n",
       " 5.0,\n",
       " 7.0,\n",
       " 5.0,\n",
       " 8.0,\n",
       " 8.0,\n",
       " 6.0,\n",
       " 7.0,\n",
       " 7.0,\n",
       " 6.0,\n",
       " 6.0,\n",
       " 7.0,\n",
       " 7.0,\n",
       " 7.0,\n",
       " 7.0,\n",
       " 6.0,\n",
       " 6.0,\n",
       " 6.0,\n",
       " 6.0,\n",
       " 7.0,\n",
       " 6.0,\n",
       " 7.0,\n",
       " 7.0,\n",
       " 7.0,\n",
       " 6.0,\n",
       " 7.0,\n",
       " 6.0,\n",
       " 6.0,\n",
       " 6.0,\n",
       " 6.0,\n",
       " 7.0]"
      ]
     },
     "execution_count": 54,
     "metadata": {},
     "output_type": "execute_result"
    }
   ],
   "source": [
    "max_score"
   ]
  },
  {
   "attachments": {},
   "cell_type": "markdown",
   "metadata": {},
   "source": [
    "Plotting the Distribution of max block from random moves"
   ]
  },
  {
   "cell_type": "code",
   "execution_count": 55,
   "metadata": {},
   "outputs": [
    {
     "data": {
      "text/plain": [
       "(array([10., 36., 43., 11.]),\n",
       " array([5.  , 5.75, 6.5 , 7.25, 8.  ]),\n",
       " <BarContainer object of 4 artists>)"
      ]
     },
     "execution_count": 55,
     "metadata": {},
     "output_type": "execute_result"
    },
    {
     "data": {
      "image/png": "[encoded data removed]",
      "text/plain": [
       "<Figure size 640x480 with 1 Axes>"
      ]
     },
     "metadata": {},
     "output_type": "display_data"
    }
   ],
   "source": [
    "fig, axs = plt.subplots(1, 1, sharey=True, tight_layout=True)\n",
    "axs.hist(max_score, bins=len(set(max_score)))"
   ]
  },
  {
   "cell_type": "code",
   "execution_count": 56,
   "metadata": {},
   "outputs": [],
   "source": [
    "states = env.observation_space.shape\n",
    "actions = env.action_space.n"
   ]
  },
  {
   "cell_type": "code",
   "execution_count": 57,
   "metadata": {},
   "outputs": [
    {
     "data": {
      "text/plain": [
       "4"
      ]
     },
     "execution_count": 57,
     "metadata": {},
     "output_type": "execute_result"
    }
   ],
   "source": [
    "actions"
   ]
  },
  {
   "cell_type": "code",
   "execution_count": 58,
   "metadata": {},
   "outputs": [],
   "source": [
    "def build_model(states, actions):\n",
    "    model = Sequential()    \n",
    "    model.add(Dense(24, activation='relu', input_shape=states))\n",
    "    model.add(Dense(24, activation='relu'))\n",
    "    model.add(Flatten())\n",
    "    model.add(Dense(actions, activation='linear'))\n",
    "    return model"
   ]
  },
  {
   "cell_type": "code",
   "execution_count": 59,
   "metadata": {},
   "outputs": [],
   "source": [
    "model = build_model(states, actions)\n",
    "del model\n",
    "model = build_model(states, actions)"
   ]
  },
  {
   "cell_type": "code",
   "execution_count": 60,
   "metadata": {},
   "outputs": [
    {
     "name": "stdout",
     "output_type": "stream",
     "text": [
      "Model: \"sequential_7\"\n",
      "_________________________________________________________________\n",
      " Layer (type)                Output Shape              Param #   \n",
      "=================================================================\n",
      " dense_18 (Dense)            (None, 1, 4, 24)          120       \n",
      "                                                                 \n",
      " dense_19 (Dense)            (None, 1, 4, 24)          600       \n",
      "                                                                 \n",
      " flatten_7 (Flatten)         (None, 96)                0         \n",
      "                                                                 \n",
      " dense_20 (Dense)            (None, 4)                 388       \n",
      "                                                                 \n",
      "=================================================================\n",
      "Total params: 1,108\n",
      "Trainable params: 1,108\n",
      "Non-trainable params: 0\n",
      "_________________________________________________________________\n"
     ]
    }
   ],
   "source": [
    "model.summary()"
   ]
  },
  {
   "cell_type": "code",
   "execution_count": null,
   "metadata": {},
   "outputs": [],
   "source": [
    "episodes = 100\n",
    "for episode in trange(1, episodes+1):\n",
    "    state = env.reset()\n",
    "    done = False\n",
    "    score = 0 \n",
    "    while not done:\n",
    "        # env.render()\n",
    "        action = env.action_space.sample()\n",
    "        # print(action)c\n",
    "        n_state, reward, done, info = env.step(action)\n",
    "        score+=reward\n",
    "    max_score.append(env.maxBlock())\n",
    "    # print('Episode:{} Score:{}'.format(episode, score))"
   ]
  }
 ],
 "metadata": {
  "kernelspec": {
   "display_name": "py39",
   "language": "python",
   "name": "python3"
  },
  "language_info": {
   "codemirror_mode": {
    "name": "ipython",
    "version": 3
   },
   "file_extension": ".py",
   "mimetype": "text/x-python",
   "name": "python",
   "nbconvert_exporter": "python",
   "pygments_lexer": "ipython3",
   "version": "3.9.16"
  },
  "orig_nbformat": 4,
  "vscode": {
   "interpreter": {
    "hash": "7e1b660ec160019daaaf0f56251219308500388eb9d7fbb6e4b5e5244568bc87"
   }
  }
 },
 "nbformat": 4,
 "nbformat_minor": 2
}
