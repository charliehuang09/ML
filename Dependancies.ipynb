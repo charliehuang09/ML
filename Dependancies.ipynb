{
 "cells": [
  {
   "cell_type": "code",
   "execution_count": 6,
   "metadata": {},
   "outputs": [
    {
     "ename": "KeyboardInterrupt",
     "evalue": "",
     "output_type": "error",
     "traceback": [
      "\u001b[0;31m---------------------------------------------------------------------------\u001b[0m",
      "\u001b[0;31mKeyboardInterrupt\u001b[0m                         Traceback (most recent call last)",
      "\u001b[1;32m/Users/charlie/ML/Dependancies.ipynb Cell 1\u001b[0m in \u001b[0;36m<cell line: 8>\u001b[0;34m()\u001b[0m\n\u001b[1;32m      <a href='vscode-notebook-cell:/Users/charlie/ML/Dependancies.ipynb#W0sZmlsZQ%3D%3D?line=5'>6</a>\u001b[0m \u001b[39mimport\u001b[39;00m \u001b[39mtorchsummary\u001b[39;00m \u001b[39mas\u001b[39;00m \u001b[39msummary\u001b[39;00m\n\u001b[1;32m      <a href='vscode-notebook-cell:/Users/charlie/ML/Dependancies.ipynb#W0sZmlsZQ%3D%3D?line=6'>7</a>\u001b[0m \u001b[39mimport\u001b[39;00m \u001b[39mrequests\u001b[39;00m\n\u001b[0;32m----> <a href='vscode-notebook-cell:/Users/charlie/ML/Dependancies.ipynb#W0sZmlsZQ%3D%3D?line=7'>8</a>\u001b[0m \u001b[39mimport\u001b[39;00m \u001b[39mcv2\u001b[39;00m\n\u001b[1;32m      <a href='vscode-notebook-cell:/Users/charlie/ML/Dependancies.ipynb#W0sZmlsZQ%3D%3D?line=8'>9</a>\u001b[0m \u001b[39mfrom\u001b[39;00m \u001b[39mhuggingface_hub\u001b[39;00m \u001b[39mimport\u001b[39;00m hf_hub_download\n\u001b[1;32m     <a href='vscode-notebook-cell:/Users/charlie/ML/Dependancies.ipynb#W0sZmlsZQ%3D%3D?line=9'>10</a>\u001b[0m \u001b[39mimport\u001b[39;00m \u001b[39mos\u001b[39;00m\n",
      "File \u001b[0;32m~/.conda/envs/py39/lib/python3.9/site-packages/cv2/__init__.py:181\u001b[0m, in \u001b[0;36m<module>\u001b[0;34m\u001b[0m\n\u001b[1;32m    176\u001b[0m             \u001b[39mif\u001b[39;00m DEBUG: \u001b[39mprint\u001b[39m(\u001b[39m\"\u001b[39m\u001b[39mExtra Python code for\u001b[39m\u001b[39m\"\u001b[39m, submodule, \u001b[39m\"\u001b[39m\u001b[39mis loaded\u001b[39m\u001b[39m\"\u001b[39m)\n\u001b[1;32m    178\u001b[0m     \u001b[39mif\u001b[39;00m DEBUG: \u001b[39mprint\u001b[39m(\u001b[39m'\u001b[39m\u001b[39mOpenCV loader: DONE\u001b[39m\u001b[39m'\u001b[39m)\n\u001b[0;32m--> 181\u001b[0m bootstrap()\n",
      "File \u001b[0;32m~/.conda/envs/py39/lib/python3.9/site-packages/cv2/__init__.py:153\u001b[0m, in \u001b[0;36mbootstrap\u001b[0;34m()\u001b[0m\n\u001b[1;32m    149\u001b[0m \u001b[39mif\u001b[39;00m DEBUG: \u001b[39mprint\u001b[39m(\u001b[39m\"\u001b[39m\u001b[39mRelink everything from native cv2 module to cv2 package\u001b[39m\u001b[39m\"\u001b[39m)\n\u001b[1;32m    151\u001b[0m py_module \u001b[39m=\u001b[39m sys\u001b[39m.\u001b[39mmodules\u001b[39m.\u001b[39mpop(\u001b[39m\"\u001b[39m\u001b[39mcv2\u001b[39m\u001b[39m\"\u001b[39m)\n\u001b[0;32m--> 153\u001b[0m native_module \u001b[39m=\u001b[39m importlib\u001b[39m.\u001b[39;49mimport_module(\u001b[39m\"\u001b[39;49m\u001b[39mcv2\u001b[39;49m\u001b[39m\"\u001b[39;49m)\n\u001b[1;32m    155\u001b[0m sys\u001b[39m.\u001b[39mmodules[\u001b[39m\"\u001b[39m\u001b[39mcv2\u001b[39m\u001b[39m\"\u001b[39m] \u001b[39m=\u001b[39m py_module\n\u001b[1;32m    156\u001b[0m \u001b[39msetattr\u001b[39m(py_module, \u001b[39m\"\u001b[39m\u001b[39m_native\u001b[39m\u001b[39m\"\u001b[39m, native_module)\n",
      "File \u001b[0;32m~/.conda/envs/py39/lib/python3.9/importlib/__init__.py:127\u001b[0m, in \u001b[0;36mimport_module\u001b[0;34m(name, package)\u001b[0m\n\u001b[1;32m    125\u001b[0m             \u001b[39mbreak\u001b[39;00m\n\u001b[1;32m    126\u001b[0m         level \u001b[39m+\u001b[39m\u001b[39m=\u001b[39m \u001b[39m1\u001b[39m\n\u001b[0;32m--> 127\u001b[0m \u001b[39mreturn\u001b[39;00m _bootstrap\u001b[39m.\u001b[39;49m_gcd_import(name[level:], package, level)\n",
      "\u001b[0;31mKeyboardInterrupt\u001b[0m: "
     ]
    }
   ],
   "source": [
    "import pygame\n",
    "import gym\n",
    "import torch\n",
    "import numpy as np\n",
    "import pandas as pd\n",
    "import torchsummary as summary\n",
    "import requests\n",
    "import cv2\n",
    "from huggingface_hub import hf_hub_download\n",
    "import os\n",
    "from PIL import Image\n",
    "import matplotlib.pyplot as plt\n",
    "import pytube\n"
   ]
  }
 ],
 "metadata": {
  "kernelspec": {
   "display_name": "py39",
   "language": "python",
   "name": "python3"
  },
  "language_info": {
   "codemirror_mode": {
    "name": "ipython",
    "version": 3
   },
   "file_extension": ".py",
   "mimetype": "text/x-python",
   "name": "python",
   "nbconvert_exporter": "python",
   "pygments_lexer": "ipython3",
   "version": "3.9.16 | packaged by conda-forge | (main, Feb  1 2023, 21:38:11) \n[Clang 14.0.6 ]"
  },
  "orig_nbformat": 4,
  "vscode": {
   "interpreter": {
    "hash": "7e1b660ec160019daaaf0f56251219308500388eb9d7fbb6e4b5e5244568bc87"
   }
  }
 },
 "nbformat": 4,
 "nbformat_minor": 2
}
